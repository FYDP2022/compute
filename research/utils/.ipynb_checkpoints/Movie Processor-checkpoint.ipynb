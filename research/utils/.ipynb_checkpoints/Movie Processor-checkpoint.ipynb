{
 "cells": [
  {
   "cell_type": "code",
   "execution_count": 1,
   "id": "fc9f3e2b",
   "metadata": {},
   "outputs": [],
   "source": [
    "from moviepy.editor import VideoFileClip\n",
    "from IPython.display import HTML\n",
    "import matplotlib.pyplot as plt\n",
    "import matplotlib.image as mpimg\n",
    "import cv2"
   ]
  },
  {
   "cell_type": "code",
   "execution_count": 7,
   "id": "c7e7c60a",
   "metadata": {},
   "outputs": [],
   "source": [
    "class LawnData:\n",
    "    def __init__(self, movie_path='lawn_movie.mp4'):\n",
    "        self.frames = []\n",
    "        self.movie_path = movie_path\n",
    "        self.video_obj = cv2.VideoCapture(self.movie_path)\n",
    "        self.length = int(self.video_obj.get(cv2.CAP_PROP_FRAME_COUNT))\n",
    "        \n",
    "    def get_total_frames(self):\n",
    "        return self.length\n",
    "    \n",
    "    def populate_frames(self, num_frames=10):\n",
    "        i = 0\n",
    "        while i < num_frames:\n",
    "            i+=1\n",
    "            success, frame = self.video_obj.read()\n",
    "            if success:\n",
    "                self.frames.append(frame)\n",
    "        return self.frames"
   ]
  },
  {
   "cell_type": "code",
   "execution_count": 8,
   "id": "712e80f0",
   "metadata": {},
   "outputs": [],
   "source": [
    "lawn = LawnData()"
   ]
  },
  {
   "cell_type": "code",
   "execution_count": 4,
   "id": "1e3ce0a7",
   "metadata": {},
   "outputs": [
    {
     "data": {
      "text/plain": [
       "3880"
      ]
     },
     "execution_count": 4,
     "metadata": {},
     "output_type": "execute_result"
    }
   ],
   "source": [
    "lawn.get_total_frames()"
   ]
  },
  {
   "cell_type": "code",
   "execution_count": 5,
   "id": "82937982",
   "metadata": {},
   "outputs": [],
   "source": [
    "frames = lawn.populate_frames(10)"
   ]
  },
  {
   "cell_type": "code",
   "execution_count": 6,
   "id": "5125a753",
   "metadata": {},
   "outputs": [
    {
     "ename": "TypeError",
     "evalue": "bad argument type for built-in operation",
     "output_type": "error",
     "traceback": [
      "\u001b[1;31m---------------------------------------------------------------------------\u001b[0m",
      "\u001b[1;31mTypeError\u001b[0m                                 Traceback (most recent call last)",
      "\u001b[1;32mC:\\Users\\JACKCA~1\\AppData\\Local\\Temp/ipykernel_1436/1430006033.py\u001b[0m in \u001b[0;36m<module>\u001b[1;34m\u001b[0m\n\u001b[1;32m----> 1\u001b[1;33m \u001b[0mimg\u001b[0m \u001b[1;33m=\u001b[0m \u001b[0mcv2\u001b[0m\u001b[1;33m.\u001b[0m\u001b[0mimread\u001b[0m\u001b[1;33m(\u001b[0m\u001b[0mframes\u001b[0m\u001b[1;33m[\u001b[0m\u001b[1;36m0\u001b[0m\u001b[1;33m]\u001b[0m\u001b[1;33m)\u001b[0m\u001b[1;33m\u001b[0m\u001b[1;33m\u001b[0m\u001b[0m\n\u001b[0m",
      "\u001b[1;31mTypeError\u001b[0m: bad argument type for built-in operation"
     ]
    }
   ],
   "source": [
    "img = cv2.imread(frames[0])"
   ]
  },
  {
   "cell_type": "code",
   "execution_count": null,
   "id": "f72dd4d0",
   "metadata": {},
   "outputs": [],
   "source": [
    "while lawn.video_obj.isOpened():\n",
    "    ret, frame = lawn.video_obj.read()\n",
    "    \n",
    "    cv2.imshow(\"video\", frame)"
   ]
  },
  {
   "cell_type": "code",
   "execution_count": null,
   "id": "804889a2",
   "metadata": {},
   "outputs": [],
   "source": []
  }
 ],
 "metadata": {
  "kernelspec": {
   "display_name": "Python 3 (ipykernel)",
   "language": "python",
   "name": "python3"
  },
  "language_info": {
   "codemirror_mode": {
    "name": "ipython",
    "version": 3
   },
   "file_extension": ".py",
   "mimetype": "text/x-python",
   "name": "python",
   "nbconvert_exporter": "python",
   "pygments_lexer": "ipython3",
   "version": "3.8.12"
  }
 },
 "nbformat": 4,
 "nbformat_minor": 5
}
